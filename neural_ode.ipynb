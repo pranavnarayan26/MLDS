{
 "cells": [
  {
   "cell_type": "markdown",
   "id": "b16dfc76-0c78-416c-9565-c0825087a06a",
   "metadata": {},
   "source": [
    "# Neural ODE"
   ]
  },
  {
   "cell_type": "markdown",
   "id": "a8768437-4934-45d8-9d34-d0783e81cf94",
   "metadata": {},
   "source": [
    "This example trains a [Neural ODE](https://arxiv.org/abs/1806.07366) to reproduce a toy dataset of nonlinear oscillators.\n",
    "\n",
    "This example is available as a Jupyter notebook [here](https://github.com/patrick-kidger/diffrax/blob/main/examples/neural_ode.ipynb)."
   ]
  },
  {
   "cell_type": "code",
   "execution_count": 1,
   "id": "276cbbe5-dac1-4814-807c-e50cc633b11a",
   "metadata": {},
   "outputs": [],
   "source": [
    "import time\n",
    "\n",
    "import diffrax\n",
    "import equinox as eqx  # https://github.com/patrick-kidger/equinox\n",
    "import jax\n",
    "import jax.nn as jnn\n",
    "import jax.numpy as jnp\n",
    "import jax.random as jr\n",
    "import matplotlib.pyplot as plt\n",
    "import optax  # https://github.com/deepmind/optax"
   ]
  },
  {
   "cell_type": "markdown",
   "id": "d0f36a4f-3813-4f84-8d61-96500ea1f237",
   "metadata": {},
   "source": [
    "We use [Equinox](https://github.com/patrick-kidger/equinox) to build neural networks. We use [Optax](https://github.com/deepmind/optax) for optimisers (Adam etc.)"
   ]
  },
  {
   "cell_type": "markdown",
   "id": "5016bd6c-4981-4783-a3cf-087b89b680c4",
   "metadata": {},
   "source": [
    "Recalling that a neural ODE is defined as\n",
    "\n",
    "$y(t) = y(0) + \\int_0^t f_\\theta(s, y(s)) ds$,\n",
    "\n",
    "then here we're now about to define the $f_\\theta$ that appears on that right hand side."
   ]
  },
  {
   "cell_type": "code",
   "execution_count": 2,
   "id": "243412cd-9f19-489f-a10e-bf0eb8bf3788",
   "metadata": {},
   "outputs": [],
   "source": [
    "#this thing is a constructor, apparently; and constructors in python apparently always start with a reference to the current instance\n",
    "class Func(eqx.Module):\n",
    "    mlp: eqx.nn.MLP # MLP is apparently just the standard feedforward neural network; takes in an input layer, goes through some hidden layers, and has an output layer\n",
    "\n",
    "    def __init__(self, data_size, width_size, depth, *, key, **kwargs):\n",
    "        super().__init__(**kwargs)\n",
    "        self.mlp = eqx.nn.MLP(\n",
    "            in_size=data_size,\n",
    "            out_size=data_size,\n",
    "            width_size=width_size,\n",
    "            depth=depth, #depth of neural ode / # of layers\n",
    "            activation=jnn.softplus, #activation function applied to each layer; \n",
    "            #softplus is ln(1+e^x), which approaches 0 for large negatives, and approaches linearity for large positives\n",
    "            key=key, #used to randomize initial parameter\n",
    "        )\n",
    "\n",
    "    def __call__(self, t, y, args): #allows object name to be used as a function ex. self(1, 2, [idk]) would call this (and probably result in an infinite loop, but still)\n",
    "        return self.mlp(y)"
   ]
  },
  {
   "cell_type": "markdown",
   "id": "1aa17137-a851-4214-9187-53711d0e07da",
   "metadata": {},
   "source": [
    "Here we wrap up the entire ODE solve into a model."
   ]
  },
  {
   "cell_type": "code",
   "execution_count": 3,
   "id": "fdb14ae0-1aa5-4e10-ba3b-d977d5d6ac3d",
   "metadata": {},
   "outputs": [],
   "source": [
    "class NeuralODE(eqx.Module):\n",
    "    func: Func\n",
    "\n",
    "    def __init__(self, data_size, width_size, depth, *, key, **kwargs):\n",
    "        super().__init__(**kwargs)\n",
    "        self.func = Func(data_size, width_size, depth, key=key)\n",
    "\n",
    "    def __call__(self, ts, y0):\n",
    "        solution = diffrax.diffeqsolve(\n",
    "            diffrax.ODETerm(self.func),\n",
    "            diffrax.Tsit5(), #the method by which the ODE is being solved\n",
    "            t0=ts[0],\n",
    "            t1=ts[-1],\n",
    "            dt0=ts[1] - ts[0],\n",
    "            y0=y0,\n",
    "            stepsize_controller=diffrax.PIDController(rtol=1e-3, atol=1e-6),\n",
    "            saveat=diffrax.SaveAt(ts=ts), max_steps = 1000000,\n",
    "        )\n",
    "        return solution.ys"
   ]
  },
  {
   "cell_type": "markdown",
   "id": "97d3264c-2edc-465e-b61f-05125645e1df",
   "metadata": {},
   "source": [
    "Toy dataset of nonlinear oscillators. Sample paths look like deformed sines and cosines."
   ]
  },
  {
   "cell_type": "code",
   "execution_count": 4,
   "id": "29225b09-3a50-4a7f-bbcf-5824d44f3e62",
   "metadata": {},
   "outputs": [],
   "source": [
    "def _get_data(ts, *, key):\n",
    "    #data_key, model_key, loader_key = jr.split(key, 3)\n",
    "    def f(t, state, args):\n",
    "        G = 6.67430e-11\n",
    "        M = 5.972e24\n",
    "        mu = G * M\n",
    "\n",
    "        r = jnp.linalg.norm(jnp.asarray(state[:3]))\n",
    "\n",
    "        a = -mu * jnp.array(state[:3], float) / r**3\n",
    "\n",
    "        return [state[3], state[4], state[5], a[0], a[1], a[2]]\n",
    "\n",
    "    term = diffrax.ODETerm(f)\n",
    "    solver = diffrax.Tsit5()\n",
    "    \n",
    "    inclination = 0\n",
    "    G = 6.67430e-11\n",
    "    M = 5.972e24\n",
    "    r = 7.378e6\n",
    "    a = r\n",
    "    mu = G * M\n",
    "    T = 2 * 2 * jnp.pi * jnp.sqrt(a**3/mu) #formula for period of an orbit = 2 * jnp.pi * jnp.sqrt(a**3/mu)\n",
    "    v = jnp.sqrt(2 * mu/r - mu/a) #formula for velocity of an orbit = jnp.sqrt(2 * mu/r - mu/a)\n",
    "\n",
    "\n",
    "    y0 = [0, r * jnp.cos(inclination), -r * jnp.sin(inclination), v, 0, 0] \n",
    "    ts = jnp.linspace(0, T, 1000) \n",
    "    saveat = diffrax.SaveAt(ts=ts)\n",
    "\n",
    "    sol = diffrax.diffeqsolve(term, solver, ts[0], ts[-1], dt0 = 0.1, y0=y0, saveat=saveat, max_steps=1000000)\n",
    "    ys = sol.ys #i have no idea why this is necessary, namely the bit with the key\n",
    "    #print(jnp.shape(ys))\n",
    "    ys = jnp.swapaxes(jnp.array(ys), 0, 1)\n",
    "    return ts, ys\n",
    "\n",
    "\n",
    "def get_data(dataset_size, *, key):\n",
    "    ts = jnp.linspace(0, 130*60, 1000) \n",
    "    key = jr.split(key, dataset_size)\n",
    "    ts, ys1 = _get_data(ts, key=key)\n",
    "    #print(jnp.shape(ys1))\n",
    "    ys2 = jax.vmap(lambda key: ys1)(key)\n",
    "    ys = jnp.array(ys2)\n",
    "    return ts, ys"
   ]
  },
  {
   "cell_type": "code",
   "execution_count": 5,
   "id": "6505387d-6900-401d-9ceb-b741f349f1e6",
   "metadata": {},
   "outputs": [],
   "source": [
    "def dataloader(arrays, batch_size, *, key):\n",
    "    dataset_size = arrays[0].shape[0]\n",
    "    assert all(array.shape[0] == dataset_size for array in arrays)\n",
    "    indices = jnp.arange(dataset_size) #arange returns evenly spaced values within a given interval; in this case, 0 to dataset_size exclusive, integer values only\n",
    "    while True:\n",
    "        perm = jr.permutation(key, indices) #returns a shuffled version of indices\n",
    "        (key,) = jr.split(key, 1) #splits key into two, stores the first half?\n",
    "        start = 0\n",
    "        end = batch_size #32\n",
    "        while end < dataset_size: #end < 1000\n",
    "            batch_perm = perm[start:end] #takes end elements from the indices\n",
    "            yield tuple(array[batch_perm] for array in arrays) #returns tuples of \n",
    "            #print(array[batch_perm])\n",
    "            start = end\n",
    "            end = start + batch_size"
   ]
  },
  {
   "cell_type": "markdown",
   "id": "acd937f6-4642-4b8a-b309-aae63a9269dc",
   "metadata": {},
   "source": [
    "Main entry point. Try runnning `main()`."
   ]
  },
  {
   "cell_type": "code",
   "execution_count": 6,
   "id": "135540f6-d5ea-4c79-b083-0b86fd3edbe3",
   "metadata": {},
   "outputs": [],
   "source": [
    "def main(\n",
    "    dataset_size=256,\n",
    "    batch_size=32,\n",
    "    lr_strategy=(3e-3, 3e-3),\n",
    "    steps_strategy=(500, 500),\n",
    "    length_strategy=(0.1, 1),\n",
    "    width_size=64,\n",
    "    depth=2,\n",
    "    seed=5678,\n",
    "    plot=True,\n",
    "    print_every=100,\n",
    "):\n",
    "    key = jr.PRNGKey(seed)\n",
    "    #print(key)\n",
    "    data_key, model_key, loader_key = jr.split(key, 3)\n",
    "\n",
    "    ts, ys = get_data(dataset_size, key=data_key)\n",
    "    _, length_size, data_size = jnp.shape(ys)\n",
    "    #print(ys.shape)\n",
    "    #print(length_size)\n",
    "    #print(data_size)\n",
    "\n",
    "    model = NeuralODE(data_size, width_size, depth, key=model_key)\n",
    "\n",
    "    # Training loop like normal.\n",
    "    #\n",
    "    # Only thing to notice is that up until step 500 we train on only the first 10% of\n",
    "    # each time series. This is a standard trick to avoid getting caught in a local\n",
    "    # minimum.\n",
    "\n",
    "    @eqx.filter_value_and_grad\n",
    "    def grad_loss(model, ti, yi):\n",
    "        y_pred = jax.vmap(model, in_axes=(None, 0))(ti, yi[:, 0])\n",
    "        return jnp.mean((yi - y_pred) ** 2)\n",
    "\n",
    "    @eqx.filter_jit\n",
    "    def make_step(ti, yi, model, opt_state):\n",
    "        loss, grads = grad_loss(model, ti, yi)\n",
    "        updates, opt_state = optim.update(grads, opt_state)\n",
    "        model = eqx.apply_updates(model, updates)\n",
    "        return loss, model, opt_state\n",
    "\n",
    "    for lr, steps, length in zip(lr_strategy, steps_strategy, length_strategy): #combines elements of each list into tuples\n",
    "        optim = optax.adabelief(lr) #initializes optimizer called adabelief, with lr being \"learning rate\"?\n",
    "        opt_state = optim.init(eqx.filter(model, eqx.is_inexact_array)) #filter seems to have exactly zero documentation without something added onto it\n",
    "        #based on context, though, and considering is_inexact_array is a boolean function that returns true if an element is an inexact array(whatever that means)\n",
    "        # it's possible filter just identifies those elements for which is_inexact_array returns true\n",
    "        _ts = ts[: int(length_size * length)] #this seems to define how far into the dataset training occurs, because length is first 0.1 then 1\n",
    "        #also this is splitting ts into its first (length_size * length) elements, for clarity\n",
    "        _ys = ys[:, : int(length_size * length)] #same as above except with ys\n",
    "        for step, (yi,) in zip(\n",
    "            range(steps), dataloader((_ys,), batch_size, key=loader_key)\n",
    "        ): \n",
    "            start = time.time()\n",
    "            loss, model, opt_state = make_step(_ts, yi, model, opt_state)\n",
    "            end = time.time()\n",
    "            if (step % print_every) == 0 or step == steps - 1:\n",
    "                print(f\"Step: {step}, Loss: {loss}, Computation time: {end - start}\")\n",
    "\n",
    "    if plot:\n",
    "        plt.plot(ts, ys[0, :, 0], c=\"dodgerblue\", label=\"Real\")\n",
    "        plt.plot(ts, ys[0, :, 1], c=\"dodgerblue\")\n",
    "        model_y = model(ts, ys[0, 0])\n",
    "        plt.plot(ts, model_y[:, 0], c=\"crimson\", label=\"Model\")\n",
    "        plt.plot(ts, model_y[:, 1], c=\"crimson\")\n",
    "        plt.legend()\n",
    "        plt.tight_layout()\n",
    "        plt.savefig(\"neural_ode.png\")\n",
    "        plt.show()\n",
    "\n",
    "    return ts, ys, model"
   ]
  },
  {
   "cell_type": "code",
   "execution_count": 7,
   "id": "fba5156d-22d4-40c9-991b-e6b29a53abed",
   "metadata": {},
   "outputs": [
    {
     "name": "stderr",
     "output_type": "stream",
     "text": [
      "An NVIDIA GPU may be present on this machine, but a CUDA-enabled jaxlib is not installed. Falling back to cpu.\n"
     ]
    }
   ],
   "source": [
    "ts, ys, model = main()"
   ]
  },
  {
   "cell_type": "markdown",
   "id": "ea7c0626-7e83-4a2b-84c9-44bcfc147f35",
   "metadata": {},
   "source": [
    "Some notes on speed:\n",
    "The hyperparameters for the above example haven't really been optimised. Try experimenting with them to see how much faster you can make this example run. There's lots of things you can try tweaking:\n",
    "\n",
    "- The size of the neural network.\n",
    "- The numerical solver.\n",
    "- The step size controller, including both its step size and its tolerances.\n",
    "- The length of the dataset. (Do you really need to use all of a time series every time?)\n",
    "- Batch size, learning rate, choice of optimiser.\n",
    "- ... etc.!\n",
    "\n",
    "Some notes on being Markov:\n",
    "\n",
    "- This example has assumed that the problem is Markov. Essentially, that the data `ys` is a complete observation of the system, and that we're not missing any channels. Note how the result of our model is evolving in data space. This is unlike e.g. an RNN, which has hidden state, and a linear map from hidden state to data.\n",
    "- If we wanted we could generalise this to the non-Markov case: inside `NeuralODE`, project the initial condition into some high-dimensional latent space, do the ODE solve there, then take a linear map to get the output. See the [Latent ODE example](../latent_ode) for an example doing this as part of a generative model; also see [Augmented Neural ODEs](https://arxiv.org/abs/1904.01681) for a short paper on it."
   ]
  }
 ],
 "metadata": {
  "kernelspec": {
   "display_name": "Python 3",
   "language": "python",
   "name": "python3"
  },
  "language_info": {
   "codemirror_mode": {
    "name": "ipython",
    "version": 3
   },
   "file_extension": ".py",
   "mimetype": "text/x-python",
   "name": "python",
   "nbconvert_exporter": "python",
   "pygments_lexer": "ipython3",
   "version": "3.10.12"
  }
 },
 "nbformat": 4,
 "nbformat_minor": 5
}
